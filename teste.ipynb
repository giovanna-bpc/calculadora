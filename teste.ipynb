{
  "nbformat": 4,
  "nbformat_minor": 0,
  "metadata": {
    "colab": {
      "provenance": [],
      "toc_visible": true,
      "authorship_tag": "ABX9TyNO3bTnl3Q0QuYn+N0vQwS2"
    },
    "kernelspec": {
      "name": "python3",
      "display_name": "Python 3"
    },
    "language_info": {
      "name": "python"
    }
  },
  "cells": [
    {
      "cell_type": "markdown",
      "source": [
        "Este texto é sobre ruas"
      ],
      "metadata": {
        "id": "l5q_siPdnlmR"
      }
    },
    {
      "cell_type": "code",
      "source": [
        "nome = input('Ola, qual é o seu nome?')\n",
        "print ('ola', nome, ', bem vindo(a) ao meu programa')\n",
        "def soma(a,b):\n",
        " return a + b\n",
        "def sub(a,b):\n",
        " return a - b\n",
        "def mul(a,b):\n",
        "  return a * b\n",
        "def div(a,b):\n",
        "  return a / b\n",
        "def por(a,b):\n",
        "  return a*b/100 \n",
        "\n",
        "from fractions import Fraction\n",
        "\n",
        "def soma_fracao (a, b, c, d):\n",
        "  return (Fraction(a,b) + Fraction(c,d))\n",
        "def sub_fracao (a, b, c, d):\n",
        "  return (Fraction(a,b) - Fraction(c,d))\n",
        "def mul_fracao (a, b, c, d):\n",
        "  return (Fraction(a,b) * Fraction(c,d))\n",
        "def div_fracao (a, b, c, d):\n",
        "  return (Fraction(a,b) / Fraction(c,d))\n",
        "\n",
        "\n",
        "while True:\n",
        "  print('Selecione a operação')\n",
        "  print('1. soma')\n",
        "  print('2. subtração')\n",
        "  print('3. multiplicação')\n",
        "  print('4. divisão')\n",
        "  print('5. porcentagem')\n",
        "  print('6. fração')\n",
        "\n",
        "  escolha = input(' Digite o numero de sua escolha: ')\n",
        "  if escolha == '6':\n",
        "    num1 = float (input('Digite o numerador da primeira fração:'))\n",
        "    den1 = float (input('Digite o denominador da primeira fração:'))\n",
        "    num2 = float (input('Digite o numerador da segunda fração:'))\n",
        "    den2 = float (input('Digite o denominador da segunda fração:'))\n",
        "    \n",
        "    if escolha == '1':\n",
        "      print(Fraction(soma_fracao(num1, den1, num2, den2)))\n",
        "    elif escolha == '2':\n",
        "      print(Fraction(sub_fracao(num1, den1, num2, den2)))\n",
        "    elif escolha == '3':\n",
        "      print(Fraction(mul_fracao(num1, den1, num2, den2)))\n",
        "    elif escolha == '4':\n",
        "      print(Fraction(div_fracao(num1, den1, num2, den2)))\n",
        "\n",
        "  elif escolha == '1':\n",
        "    num1 = float (input('Digite o primeiro numero:'))\n",
        "    num2 = float (input('Digite o segundo numero:'))\n",
        "    print(num1, '+', num2, '=', soma(num1, num2))\n",
        "\n",
        "  elif escolha == '2':\n",
        "    num1 = float (input('Digite o primeiro numero:'))\n",
        "    num2 = float (input('Digite o segundo numero:'))\n",
        "    print(num1, '-', num2, '=', sub(num1, num2))\n",
        "\n",
        "  elif escolha == '3':\n",
        "    num1 = float (input('Digite o primeiro numero:'))\n",
        "    num2 = float (input('Digite o segundo numero:'))\n",
        "    print(num1, '*', num2, '=', mul(num1, num2))\n",
        "\n",
        "  elif escolha == '4':\n",
        "    num1 = float (input('Digite o primeiro numero:'))\n",
        "    num2 = float (input('Digite o segundo numero:'))\n",
        "    print(num1, '/', num2, '=', div(num1, num2))   \n",
        " \n",
        "  elif escolha == '5':\n",
        "    num1 = float (input('Digite o numero:'))\n",
        "    num2 = float (input('Digite a porcentagem:'))\n",
        "    print(num1, '% de', num2, '=', por(num1, num2))   \n",
        "\n",
        "  resposta = input ('Eai, deseja fazer mais alguma conta? (sim/nao): ')\n",
        "\n",
        "  if resposta.lower() in ['nao','não', 'Não', 'Nao', 'No', 'no', 'NAO', 'NÃO']:\n",
        "\n",
        "     break\n",
        "  else:\n",
        "      print('Opção inválida.')\n",
        "\n",
        "\n",
        "\n",
        "    "
      ],
      "metadata": {
        "colab": {
          "base_uri": "https://localhost:8080/"
        },
        "id": "ML_8dSZ2nZ-_",
        "outputId": "a529d51a-b023-4f2f-f8a9-4f4d1991a12b"
      },
      "execution_count": null,
      "outputs": [
        {
          "name": "stdout",
          "output_type": "stream",
          "text": [
            "Ola, qual é o seu nome?k\n",
            "ola k , bem vindo(a) ao meu programa\n",
            "Selecione a operação\n",
            "1. soma\n",
            "2. subtração\n",
            "3. multiplicação\n",
            "4. divisão\n",
            "5. porcentagem\n",
            "6. fração\n",
            " Digite o numero de sua escolha: j\n",
            "Eai, deseja fazer mais alguma conta? (sim/nao): nao\n"
          ]
        }
      ]
    }
  ]
}